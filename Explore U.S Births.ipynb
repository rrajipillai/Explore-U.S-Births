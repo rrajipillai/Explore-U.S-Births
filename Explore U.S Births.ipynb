{
 "cells": [
  {
   "cell_type": "markdown",
   "metadata": {},
   "source": [
    "<h1 align=center>Explore U.S Births </h1>\n"
   ]
  },
  {
   "cell_type": "markdown",
   "metadata": {},
   "source": [
    "<h3>Introduction to DataSet </h3>\n",
    "<ol>\n",
    "        <li>Read the CSV file \"US_births_1994-2003_CDC_NCHS.csv\" into a string.</li>\n",
    "        <li>Split the string on the newline character (\"\\n\").</li>\n",
    "        <li>Display the first 10 values in the resulting list.</li>\n",
    "        </ol>"
   ]
  },
  {
   "cell_type": "code",
   "execution_count": 2,
   "metadata": {},
   "outputs": [
    {
     "name": "stdout",
     "output_type": "stream",
     "text": [
      "['year,month,date_of_month,day_of_week,births', '1994,1,1,6,8096', '1994,1,2,7,7772', '1994,1,3,1,10142', '1994,1,4,2,11248', '1994,1,5,3,11053', '1994,1,6,4,11406', '1994,1,7,5,11251', '1994,1,8,6,8653', '1994,1,9,7,7910']\n"
     ]
    }
   ],
   "source": [
    "f = open(\"US_births_1994-2003_CDC_NCHS.csv\",\"r\")\n",
    "file = f.read()\n",
    "string = file.split(\"\\n\")\n",
    "string[:10]\n",
    "print(string[:10])"
   ]
  },
  {
   "cell_type": "markdown",
   "metadata": {},
   "source": [
    "<h3> Converting Data into a List of Lists</h3>\n",
    "1. Create a function named read_csv() that:\n",
    "    * Takes a single, required argument, a string representing the file name of the CSV file.\n",
    "    * Reads the file into a string, splits the string on the newline character (\"\\n\"), and removes the header row. Assign this list to string_list and create an empty list named final_list.\n",
    "    * Uses a for loop to:\n",
    "        - Iterate over string_list,\n",
    "        - Create an empty list named int_fields,\n",
    "        - Splits each row on the comma delimiter (,) and assigns the resulting list to string_fields,\n",
    "        - Converts each value in string_fields to an integer and appends to int_fields,\n",
    "        - Appends int_fields to final_list.\n",
    "    * Returns final_list.\n",
    "2. Use the read_csv() function to read in the file \"US_births_1994-2003_CDC_NCHS.csv\" and assign the result to cdc_list.\n",
    "3. Display the first 10 rows of cdc_list to confirm it's a list of lists, containing only integer values, and no header row."
   ]
  },
  {
   "cell_type": "code",
   "execution_count": 5,
   "metadata": {},
   "outputs": [
    {
     "name": "stdout",
     "output_type": "stream",
     "text": [
      "[[1994, 1, 1, 6, 8096], [1994, 1, 2, 7, 7772], [1994, 1, 3, 1, 10142], [1994, 1, 4, 2, 11248], [1994, 1, 5, 3, 11053], [1994, 1, 6, 4, 11406], [1994, 1, 7, 5, 11251], [1994, 1, 8, 6, 8653], [1994, 1, 9, 7, 7910], [1994, 1, 10, 1, 10498]]\n"
     ]
    }
   ],
   "source": [
    "def read_csv(file):\n",
    "    file = open(\"US_births_1994-2003_CDC_NCHS.csv\",\"r\")\n",
    "    f = file.read()\n",
    "    string = f.split(\"\\n\")\n",
    "    string_list = string[1:]\n",
    "    final_list = []\n",
    "    \n",
    "    for row in string_list:\n",
    "        int_fields = []\n",
    "        string_fields = row.split(\",\")\n",
    "        for value in string_fields:\n",
    "            int_fields.append(int(value))\n",
    "        final_list.append(int_fields)\n",
    "    return(final_list)\n",
    "\n",
    "cdc_list = read_csv(\"US_births_1994-2003_CDC_NCHS.csv\")\n",
    "print(cdc_list[:10])\n",
    "    "
   ]
  },
  {
   "cell_type": "markdown",
   "metadata": {},
   "source": [
    "<h3> Calculating number of Births each Month</h3>\n",
    "1. Create a function named month_births() that:\n",
    "    * Takes a single, required argument, a list of lists.\n",
    "    * Creates an empty dictionary, births_per_month, to store the monthly totals.\n",
    "    * Uses a for loop to:\n",
    "        - Iterate over the list of lists,\n",
    "        - Extract the value in the month and births columns,\n",
    "        - If the month value already exists as a key in births_per_month, the births value is added to the existing value,\n",
    "        - If the month value doesn't exist as a key in births_per_month, it's created and the associated value is the births value.Iterate over the list of lists,\n",
    "    * After the loop, return the births_per_month dictionary.\n",
    "2. Use the month_births() function to calculate the monthly totals for the dataset and assign the result to cdc_month_births. Display the dictionary."
   ]
  },
  {
   "cell_type": "code",
   "execution_count": 15,
   "metadata": {},
   "outputs": [
    {
     "data": {
      "text/plain": [
       "{1: 3232517,\n",
       " 2: 3018140,\n",
       " 3: 3322069,\n",
       " 4: 3185314,\n",
       " 5: 3350907,\n",
       " 6: 3296530,\n",
       " 7: 3498783,\n",
       " 8: 3525858,\n",
       " 9: 3439698,\n",
       " 10: 3378814,\n",
       " 11: 3171647,\n",
       " 12: 3301860}"
      ]
     },
     "execution_count": 15,
     "metadata": {},
     "output_type": "execute_result"
    }
   ],
   "source": [
    "def month_births(data):\n",
    "    births_per_month = {}\n",
    "    for row in data:\n",
    "        month = row[1]\n",
    "        births = row[4]\n",
    "        if month in births_per_month:\n",
    "            births_per_month[month] = births_per_month[month] + births\n",
    "        else:\n",
    "            births_per_month[month] = births\n",
    "            \n",
    "    return births_per_month\n",
    "cdc_month_births = month_births(cdc_list)\n",
    "cdc_month_births"
   ]
  },
  {
   "cell_type": "markdown",
   "metadata": {},
   "source": [
    "<h3> Calculating number of Births each day of Week</h3>\n",
    "1. Create a function named dow_births() that takes a single, required argument (a list of lists) and returns a dictionary containing the total number of births for each unique value of the day_of_week column.\n",
    "2. Use the dow_births() function to return the day-of-week totals for the dataset and assign the result to cdc_day_births. Display the dictionary."
   ]
  },
  {
   "cell_type": "code",
   "execution_count": 14,
   "metadata": {},
   "outputs": [
    {
     "data": {
      "text/plain": [
       "{1: 5789166,\n",
       " 2: 6446196,\n",
       " 3: 6322855,\n",
       " 4: 6288429,\n",
       " 5: 6233657,\n",
       " 6: 4562111,\n",
       " 7: 4079723}"
      ]
     },
     "execution_count": 14,
     "metadata": {},
     "output_type": "execute_result"
    }
   ],
   "source": [
    "def dow_births(data):\n",
    "    births_per_dow = {}\n",
    "    for row in data:\n",
    "        dow = row[3]\n",
    "        births = row[4]\n",
    "        if dow in births_per_dow:\n",
    "            births_per_dow[dow] = births_per_dow[dow] + births\n",
    "        else:\n",
    "            births_per_dow[dow] = births\n",
    "            \n",
    "    return births_per_dow\n",
    "cdc_day_births = dow_births(cdc_list)\n",
    "cdc_day_births"
   ]
  },
  {
   "cell_type": "markdown",
   "metadata": {},
   "source": [
    "<h3> Creating A More General Function</h3>\n",
    "1. Create a function named calc_counts() that:\n",
    "    * Takes two, required parameters:\n",
    "        - data: a list of lists\n",
    "        - column: the column number we want to calculate the totals for\n",
    "    * Populates and returns a dictionary containing the total number of births for each unique value in the column at position column.\n",
    "2. Use the calc_counts() function to:\n",
    "    * Return the yearly totals for the dataset and assign the result to cdc_year_births.\n",
    "    * Return the monthly totals for the dataset and assign the result to cdc_month_births.\n",
    "    * Return the day-of-month totals for the dataset and assign the result to cdc_dom_births.\n",
    "    * Return the day-of-week totals for the dataset and assign the result to cdc_dow_births."
   ]
  },
  {
   "cell_type": "code",
   "execution_count": 17,
   "metadata": {
    "collapsed": true
   },
   "outputs": [],
   "source": [
    "def calc_counts(data,column):\n",
    "    sum_dict = {}\n",
    "    for row in data:\n",
    "        column_value = row[column]\n",
    "        births = row[4]\n",
    "        if column_value in sum_dict:\n",
    "            sum_dict[column_value] = sum_dict[column_value] + births\n",
    "        else:\n",
    "            sum_dict[column_value] = births\n",
    "            \n",
    "    return sum_dict\n",
    "\n",
    "cdc_year_births = calc_counts(cdc_list, 0)\n",
    "cdc_month_births = calc_counts(cdc_list, 1)\n",
    "cdc_dom_births = calc_counts(cdc_list, 2)\n",
    "cdc_dow_births = calc_counts(cdc_list, 3)    "
   ]
  },
  {
   "cell_type": "code",
   "execution_count": 18,
   "metadata": {},
   "outputs": [
    {
     "data": {
      "text/plain": [
       "{1994: 3952767,\n",
       " 1995: 3899589,\n",
       " 1996: 3891494,\n",
       " 1997: 3880894,\n",
       " 1998: 3941553,\n",
       " 1999: 3959417,\n",
       " 2000: 4058814,\n",
       " 2001: 4025933,\n",
       " 2002: 4021726,\n",
       " 2003: 4089950}"
      ]
     },
     "execution_count": 18,
     "metadata": {},
     "output_type": "execute_result"
    }
   ],
   "source": [
    "cdc_year_births"
   ]
  },
  {
   "cell_type": "code",
   "execution_count": 19,
   "metadata": {},
   "outputs": [
    {
     "data": {
      "text/plain": [
       "{1: 3232517,\n",
       " 2: 3018140,\n",
       " 3: 3322069,\n",
       " 4: 3185314,\n",
       " 5: 3350907,\n",
       " 6: 3296530,\n",
       " 7: 3498783,\n",
       " 8: 3525858,\n",
       " 9: 3439698,\n",
       " 10: 3378814,\n",
       " 11: 3171647,\n",
       " 12: 3301860}"
      ]
     },
     "execution_count": 19,
     "metadata": {},
     "output_type": "execute_result"
    }
   ],
   "source": [
    "cdc_month_births   "
   ]
  },
  {
   "cell_type": "code",
   "execution_count": 20,
   "metadata": {},
   "outputs": [
    {
     "data": {
      "text/plain": [
       "{1: 1276557,\n",
       " 2: 1288739,\n",
       " 3: 1304499,\n",
       " 4: 1288154,\n",
       " 5: 1299953,\n",
       " 6: 1304474,\n",
       " 7: 1310459,\n",
       " 8: 1312297,\n",
       " 9: 1303292,\n",
       " 10: 1320764,\n",
       " 11: 1314361,\n",
       " 12: 1318437,\n",
       " 13: 1277684,\n",
       " 14: 1320153,\n",
       " 15: 1319171,\n",
       " 16: 1315192,\n",
       " 17: 1324953,\n",
       " 18: 1326855,\n",
       " 19: 1318727,\n",
       " 20: 1324821,\n",
       " 21: 1322897,\n",
       " 22: 1317381,\n",
       " 23: 1293290,\n",
       " 24: 1288083,\n",
       " 25: 1272116,\n",
       " 26: 1284796,\n",
       " 27: 1294395,\n",
       " 28: 1307685,\n",
       " 29: 1223161,\n",
       " 30: 1202095,\n",
       " 31: 746696}"
      ]
     },
     "execution_count": 20,
     "metadata": {},
     "output_type": "execute_result"
    }
   ],
   "source": [
    "cdc_dom_births"
   ]
  },
  {
   "cell_type": "code",
   "execution_count": 21,
   "metadata": {},
   "outputs": [
    {
     "data": {
      "text/plain": [
       "{1: 5789166,\n",
       " 2: 6446196,\n",
       " 3: 6322855,\n",
       " 4: 6288429,\n",
       " 5: 6233657,\n",
       " 6: 4562111,\n",
       " 7: 4079723}"
      ]
     },
     "execution_count": 21,
     "metadata": {},
     "output_type": "execute_result"
    }
   ],
   "source": [
    "cdc_dow_births"
   ]
  },
  {
   "cell_type": "code",
   "execution_count": null,
   "metadata": {
    "collapsed": true
   },
   "outputs": [],
   "source": []
  }
 ],
 "metadata": {
  "kernelspec": {
   "display_name": "Python 3",
   "language": "python",
   "name": "python3"
  },
  "language_info": {
   "codemirror_mode": {
    "name": "ipython",
    "version": 3
   },
   "file_extension": ".py",
   "mimetype": "text/x-python",
   "name": "python",
   "nbconvert_exporter": "python",
   "pygments_lexer": "ipython3",
   "version": "3.6.3"
  }
 },
 "nbformat": 4,
 "nbformat_minor": 2
}
